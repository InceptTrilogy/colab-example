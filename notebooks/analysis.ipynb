{
 "cells": [
  {
   "cell_type": "code",
   "execution_count": null,
   "metadata": {},
   "source": [
    "\"\"\"Setup: Run this cell first\"\"\"\n",
    "from google.colab import drive\n",
    "drive.mount('/content/drive')\n",
    "\n",
    "# Clone repo if needed\n",
    "!git clone https://github.com/InceptTrilogy/colab-example.git\n",
    "%cd colab-example\n",
    "\n",
    "# Add to path for imports\n",
    "import sys\n",
    "if '/content/colab-example' not in sys.path:\n",
    "    sys.path.append('/content/colab-example')\n",
    "\n",
    "# Test import\n",
    "from src.utils import greet\n",
    "print(greet(\"Collaborator\"))"
   ]
  },
  {
   "cell_type": "markdown",
   "metadata": {},
   "source": [
    "## Analysis Notebook\n",
    "Your analysis starts here. All shared functions should go in src/utils.py"
   ]
  }
 ],
 "metadata": {
  "kernelspec": {
   "display_name": "Python 3",
   "language": "python",
   "name": "python3"
  },
  "language_info": {
   "codemirror_mode": {
    "name": "ipython",
    "version": 3
   },
   "file_extension": ".py",
   "mimetype": "text/x-python",
   "name": "python",
   "nbconvert_exporter": "python",
   "pygments_lexer": "ipython3",
   "version": "3.8.0"
  }
 },
 "nbformat": 4,
 "nbformat_minor": 4
}
