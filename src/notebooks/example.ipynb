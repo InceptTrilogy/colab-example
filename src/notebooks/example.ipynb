{
 "cells": [
  {
   "cell_type": "markdown",
   "metadata": {},
   "source": [
    "# Google Sheets Client Example\n",
    "\n",
    "This notebook demonstrates how to use our Google Sheets client utility functions. We'll first set up our environment by cloning the repository and configuring the Python path."
   ]
  },
  {
   "cell_type": "code",
   "execution_count": null,
   "metadata": {},
   "outputs": [],
   "source": [
    "# Clone the repository\n",
    "!git clone https://github.com/InceptTrilogy/colab-example.git\n",
    "%cd colab-example\n",
    "\n",
    "# Add src directory to Python path\n",
    "import sys\n",
    "!pwd  # Verify current directory\n",
    "sys.path.append('/content/colab-example/src')\n",
    "\n",
    "# Install dependencies\n",
    "!pip install google-auth google-auth-oauthlib google-auth-httplib2 google-api-python-client pydantic"
   ]
  },
  {
   "cell_type": "code",
   "execution_count": null,
   "metadata": {},
   "outputs": [],
   "source": [
    "from google.oauth2.credentials import Credentials\n",
    "from sheets import (\n",
    "    GoogleSheetsClient,\n",
    "    SheetRange,\n",
    "    SheetReadRequest,\n",
    "    SheetWriteRequest\n",
    ")"
   ]
  },
  {
   "cell_type": "markdown",
   "metadata": {},
   "source": [
    "## Authentication\n",
    "\n",
    "First, authenticate with Google using Colab's built-in auth helper:"
   ]
  },
  {
   "cell_type": "code",
   "execution_count": null,
   "metadata": {},
   "outputs": [],
   "source": [
    "from google.colab import auth\n",
    "auth.authenticate_user()\n",
    "credentials = auth.get_credentials()"
   ]
  },
  {
   "cell_type": "markdown",
   "metadata": {},
   "source": [
    "## Initialize Client\n",
    "\n",
    "Create an instance of our Google Sheets client:"
   ]
  },
  {
   "cell_type": "code",
   "execution_count": null,
   "metadata": {},
   "outputs": [],
   "source": [
    "client = GoogleSheetsClient(credentials)"
   ]
  },
  {
   "cell_type": "markdown",
   "metadata": {},
   "source": [
    "## Reading Data\n",
    "\n",
    "Read data from a specific range in a spreadsheet using our strongly-typed client:"
   ]
  },
  {
   "cell_type": "code",
   "execution_count": null,
   "metadata": {},
   "outputs": [],
   "source": [
    "# Replace with your spreadsheet ID\n",
    "spreadsheet_id = \"your-spreadsheet-id\"\n",
    "\n",
    "read_request = SheetReadRequest(\n",
    "    spreadsheet_id=spreadsheet_id,\n",
    "    range=SheetRange(\n",
    "        sheet_name=\"Sheet1\",\n",
    "        start_cell=\"A1\",\n",
    "        end_cell=\"B10\"\n",
    "    )\n",
    ")\n",
    "\n",
    "response = client.read(read_request)\n",
    "print(f\"Read {len(response.values)} rows from range: {response.range}\")\n",
    "print(\"Data:\")\n",
    "for row in response.values:\n",
    "    print(row)"
   ]
  },
  {
   "cell_type": "markdown",
   "metadata": {},
   "source": [
    "## Writing Data\n",
    "\n",
    "Write data to a specific range in a spreadsheet using our strongly-typed client:"
   ]
  },
  {
   "cell_type": "code",
   "execution_count": null,
   "metadata": {},
   "outputs": [],
   "source": [
    "data_to_write = [\n",
    "    [\"Name\", \"Score\"],\n",
    "    [\"Alice\", \"95\"],\n",
    "    [\"Bob\", \"87\"],\n",
    "    [\"Charlie\", \"92\"]\n",
    "]\n",
    "\n",
    "write_request = SheetWriteRequest(\n",
    "    spreadsheet_id=spreadsheet_id,\n",
    "    range=SheetRange(\n",
    "        sheet_name=\"Sheet1\",\n",
    "        start_cell=\"D1\"\n",
    "    ),\n",
    "    values=data_to_write\n",
    ")\n",
    "\n",
    "response = client.write(write_request)\n",
    "print(f\"Updated {response.updated_cells} cells in range: {response.updated_range}\")"
   ]
  },
  {
   "cell_type": "markdown",
   "metadata": {},
   "source": [
    "## Updating Code\n",
    "\n",
    "If you need to pull the latest changes to the utility functions:"
   ]
  },
  {
   "cell_type": "code",
   "execution_count": null,
   "metadata": {},
   "outputs": [],
   "source": [
    "%cd /content/colab-example\n",
    "!git pull origin master\n",
    "\n",
    "# Reload the module to get the latest changes\n",
    "import importlib\n",
    "import sheets\n",
    "importlib.reload(sheets)"
   ]
  }
 ],
 "metadata": {
  "kernelspec": {
   "display_name": "Python 3",
   "language": "python",
   "name": "python3"
  },
  "language_info": {
   "codemirror_mode": {
    "name": "ipython",
    "version": 3
   },
   "file_extension": ".py",
   "mimetype": "text/x-python",
   "name": "python",
   "nbconvert_exporter": "python",
   "pygments_lexer": "ipython3",
   "version": "3.9.0"
  }
 },
 "nbformat": 4,
 "nbformat_minor": 4
}
